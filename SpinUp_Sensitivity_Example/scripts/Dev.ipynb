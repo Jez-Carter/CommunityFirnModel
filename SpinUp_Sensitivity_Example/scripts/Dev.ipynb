{
 "cells": [
  {
   "cell_type": "code",
   "execution_count": 13,
   "metadata": {},
   "outputs": [
    {
     "ename": "ModuleNotFoundError",
     "evalue": "No module named 'src'",
     "output_type": "error",
     "traceback": [
      "\u001b[0;31m---------------------------------------------------------------------------\u001b[0m",
      "\u001b[0;31mModuleNotFoundError\u001b[0m                       Traceback (most recent call last)",
      "Cell \u001b[0;32mIn [13], line 1\u001b[0m\n\u001b[0;32m----> 1\u001b[0m \u001b[39mimport\u001b[39;00m \u001b[39msrc\u001b[39;00m\n",
      "\u001b[0;31mModuleNotFoundError\u001b[0m: No module named 'src'"
     ]
    }
   ],
   "source": [
    "import src"
   ]
  },
  {
   "cell_type": "code",
   "execution_count": 2,
   "metadata": {},
   "outputs": [],
   "source": [
    "import pandas as pd"
   ]
  },
  {
   "cell_type": "code",
   "execution_count": 3,
   "metadata": {},
   "outputs": [],
   "source": [
    "f = '/home/jez/Community_Firn_Model_Forked/SpinUp_Sensitivity_Example/CFMinput_example/example_BDOT.csv'\n",
    "df = pd.read_csv(f).T"
   ]
  },
  {
   "cell_type": "code",
   "execution_count": 5,
   "metadata": {},
   "outputs": [
    {
     "data": {
      "text/html": [
       "<div>\n",
       "<style scoped>\n",
       "    .dataframe tbody tr th:only-of-type {\n",
       "        vertical-align: middle;\n",
       "    }\n",
       "\n",
       "    .dataframe tbody tr th {\n",
       "        vertical-align: top;\n",
       "    }\n",
       "\n",
       "    .dataframe thead th {\n",
       "        text-align: right;\n",
       "    }\n",
       "</style>\n",
       "<table border=\"1\" class=\"dataframe\">\n",
       "  <thead>\n",
       "    <tr style=\"text-align: right;\">\n",
       "      <th></th>\n",
       "      <th>0</th>\n",
       "    </tr>\n",
       "  </thead>\n",
       "  <tbody>\n",
       "    <tr>\n",
       "      <th>976.490478515625</th>\n",
       "      <td>0.480081</td>\n",
       "    </tr>\n",
       "    <tr>\n",
       "      <th>976.56982421875</th>\n",
       "      <td>0.478008</td>\n",
       "    </tr>\n",
       "    <tr>\n",
       "      <th>976.649169921875</th>\n",
       "      <td>0.443909</td>\n",
       "    </tr>\n",
       "    <tr>\n",
       "      <th>976.728515625</th>\n",
       "      <td>0.320819</td>\n",
       "    </tr>\n",
       "    <tr>\n",
       "      <th>976.807861328125</th>\n",
       "      <td>0.808541</td>\n",
       "    </tr>\n",
       "    <tr>\n",
       "      <th>...</th>\n",
       "      <td>...</td>\n",
       "    </tr>\n",
       "    <tr>\n",
       "      <th>2020.6005859375</th>\n",
       "      <td>0.605190</td>\n",
       "    </tr>\n",
       "    <tr>\n",
       "      <th>2020.679931640625</th>\n",
       "      <td>0.399466</td>\n",
       "    </tr>\n",
       "    <tr>\n",
       "      <th>2020.75927734375</th>\n",
       "      <td>0.713639</td>\n",
       "    </tr>\n",
       "    <tr>\n",
       "      <th>2020.838623046875</th>\n",
       "      <td>0.514341</td>\n",
       "    </tr>\n",
       "    <tr>\n",
       "      <th>2020.91796875</th>\n",
       "      <td>0.400200</td>\n",
       "    </tr>\n",
       "  </tbody>\n",
       "</table>\n",
       "<p>13164 rows × 1 columns</p>\n",
       "</div>"
      ],
      "text/plain": [
       "                          0\n",
       "976.490478515625   0.480081\n",
       "976.56982421875    0.478008\n",
       "976.649169921875   0.443909\n",
       "976.728515625      0.320819\n",
       "976.807861328125   0.808541\n",
       "...                     ...\n",
       "2020.6005859375    0.605190\n",
       "2020.679931640625  0.399466\n",
       "2020.75927734375   0.713639\n",
       "2020.838623046875  0.514341\n",
       "2020.91796875      0.400200\n",
       "\n",
       "[13164 rows x 1 columns]"
      ]
     },
     "execution_count": 5,
     "metadata": {},
     "output_type": "execute_result"
    }
   ],
   "source": [
    "df+5"
   ]
  },
  {
   "cell_type": "code",
   "execution_count": 12,
   "metadata": {},
   "outputs": [
    {
     "data": {
      "text/plain": [
       "0    0.230174\n",
       "dtype: float64"
      ]
     },
     "execution_count": 12,
     "metadata": {},
     "output_type": "execute_result"
    }
   ],
   "source": [
    "df[:10000].mean()"
   ]
  },
  {
   "cell_type": "code",
   "execution_count": 8,
   "metadata": {},
   "outputs": [
    {
     "data": {
      "text/plain": [
       "0    0.230322\n",
       "dtype: float64"
      ]
     },
     "execution_count": 8,
     "metadata": {},
     "output_type": "execute_result"
    }
   ],
   "source": [
    "df.mean()"
   ]
  },
  {
   "cell_type": "code",
   "execution_count": 5,
   "metadata": {},
   "outputs": [
    {
     "data": {
      "text/plain": [
       "6260.869565217391"
      ]
     },
     "execution_count": 5,
     "metadata": {},
     "output_type": "execute_result"
    }
   ],
   "source": [
    "120*12/0.23"
   ]
  },
  {
   "cell_type": "code",
   "execution_count": 7,
   "metadata": {},
   "outputs": [
    {
     "data": {
      "text/plain": [
       "521.7391304347826"
      ]
     },
     "execution_count": 7,
     "metadata": {},
     "output_type": "execute_result"
    }
   ],
   "source": [
    "120/0.23"
   ]
  },
  {
   "attachments": {},
   "cell_type": "markdown",
   "metadata": {},
   "source": [
    "522 years needed for spinup."
   ]
  }
 ],
 "metadata": {
  "kernelspec": {
   "display_name": "CFM",
   "language": "python",
   "name": "python3"
  },
  "language_info": {
   "codemirror_mode": {
    "name": "ipython",
    "version": 3
   },
   "file_extension": ".py",
   "mimetype": "text/x-python",
   "name": "python",
   "nbconvert_exporter": "python",
   "pygments_lexer": "ipython3",
   "version": "3.11.0"
  },
  "orig_nbformat": 4,
  "vscode": {
   "interpreter": {
    "hash": "e1a197dcf5d6ffc3903bab8e951e7369d3ceb4accb601b39ce8ebe20e2509149"
   }
  }
 },
 "nbformat": 4,
 "nbformat_minor": 2
}
