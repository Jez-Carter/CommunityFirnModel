{
 "cells": [
  {
   "cell_type": "code",
   "execution_count": 1,
   "metadata": {},
   "outputs": [],
   "source": [
    "import xarray as xr\n",
    "from src.helper_functions import load_all_input_dataframes"
   ]
  }
 ],
 "metadata": {
  "kernelspec": {
   "display_name": "CFM",
   "language": "python",
   "name": "python3"
  },
  "language_info": {
   "codemirror_mode": {
    "name": "ipython",
    "version": 3
   },
   "file_extension": ".py",
   "mimetype": "text/x-python",
   "name": "python",
   "nbconvert_exporter": "python",
   "pygments_lexer": "ipython3",
   "version": "3.11.0"
  },
  "orig_nbformat": 4,
  "vscode": {
   "interpreter": {
    "hash": "e1a197dcf5d6ffc3903bab8e951e7369d3ceb4accb601b39ce8ebe20e2509149"
   }
  }
 },
 "nbformat": 4,
 "nbformat_minor": 2
}
